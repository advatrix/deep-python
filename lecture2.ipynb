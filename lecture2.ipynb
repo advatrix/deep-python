{
 "cells": [
  {
   "cell_type": "markdown",
   "metadata": {},
   "source": [
    "types\n",
    "NotImplemented\n",
    "Ellipsis - пропуски (...)\n",
    "\n",
    "с помощью type() можно создавать классы и объекты\n",
    "\n",
    "bool наследуется от numbers.Integral\n",
    "\n",
    "есть тип данных дроби (модуль fractions)\n",
    "\n",
    "frozen set - неизменяемая\n",
    "\n",
    "set - сложность поиска о(1), позволяют совершать логические операции над множествами\n",
    "пустой сет можно создать только set()\n",
    "\n",
    "в питоне при проверке на равенство объекты мб равны, даже если не равны их типы\n",
    "\n",
    "модули - тоже объекты\n",
    "могут формироваться в пакеты - надо добавить __init__()\n",
    "\n",
    "__doc__: не обязательно три кавычки! любая строка после объявления функции является docstring\n",
    "\n",
    "__qualname__: имя для вложенных функций\n",
    "\n",
    "\n",
    "\n",
    "\n"
   ]
  },
  {
   "cell_type": "code",
   "execution_count": 1,
   "metadata": {},
   "outputs": [
    {
     "data": {
      "text/plain": [
       "(12,)"
      ]
     },
     "execution_count": 1,
     "metadata": {},
     "output_type": "execute_result"
    }
   ],
   "source": [
    "def hello(a=12):\n",
    "    print(a)\n",
    "    \n",
    "hello.__defaults__"
   ]
  },
  {
   "cell_type": "code",
   "execution_count": 2,
   "metadata": {},
   "outputs": [
    {
     "data": {
      "text/plain": [
       "<code object two at 0x7fc6b4551390, file \"<ipython-input-2-17bcf590a421>\", line 6>"
      ]
     },
     "execution_count": 2,
     "metadata": {},
     "output_type": "execute_result"
    }
   ],
   "source": [
    "# переопределение кода функций\n",
    "\n",
    "def one():\n",
    "    print(1)\n",
    "    \n",
    "def two():\n",
    "    print(2)\n",
    "    \n",
    "one.__code__\n",
    "two.__code__"
   ]
  },
  {
   "cell_type": "code",
   "execution_count": 3,
   "metadata": {},
   "outputs": [],
   "source": [
    "two.__code__ = one.__code__"
   ]
  },
  {
   "cell_type": "code",
   "execution_count": 4,
   "metadata": {},
   "outputs": [
    {
     "name": "stdout",
     "output_type": "stream",
     "text": [
      "1\n"
     ]
    }
   ],
   "source": [
    "two()"
   ]
  },
  {
   "cell_type": "markdown",
   "metadata": {},
   "source": [
    "чтобы не создавать экзепляр класса, можно юзать nametuple с теми же атрибутами, что и у класса\n",
    "но не имеющая конструктора"
   ]
  },
  {
   "cell_type": "code",
   "execution_count": 5,
   "metadata": {},
   "outputs": [
    {
     "data": {
      "text/plain": [
       "{'__name__': '__main__',\n",
       " '__doc__': 'Automatically created module for IPython interactive environment',\n",
       " '__package__': None,\n",
       " '__loader__': None,\n",
       " '__spec__': None,\n",
       " '__builtin__': <module 'builtins' (built-in)>,\n",
       " '__builtins__': <module 'builtins' (built-in)>,\n",
       " '_ih': ['',\n",
       "  'def hello(a=12):\\n    print(a)\\n    \\nhello.__defaults__',\n",
       "  '# переопределение кода функций\\n\\ndef one():\\n    print(1)\\n    \\ndef two():\\n    print(2)\\n    \\none.__code__\\ntwo.__code__',\n",
       "  'two.__code__ = one.__code__',\n",
       "  'two()',\n",
       "  'two.__globals__'],\n",
       " '_oh': {1: (12,),\n",
       "  2: <code object two at 0x7fc6b4551390, file \"<ipython-input-2-17bcf590a421>\", line 6>},\n",
       " '_dh': ['/home/computer'],\n",
       " 'In': ['',\n",
       "  'def hello(a=12):\\n    print(a)\\n    \\nhello.__defaults__',\n",
       "  '# переопределение кода функций\\n\\ndef one():\\n    print(1)\\n    \\ndef two():\\n    print(2)\\n    \\none.__code__\\ntwo.__code__',\n",
       "  'two.__code__ = one.__code__',\n",
       "  'two()',\n",
       "  'two.__globals__'],\n",
       " 'Out': {1: (12,),\n",
       "  2: <code object two at 0x7fc6b4551390, file \"<ipython-input-2-17bcf590a421>\", line 6>},\n",
       " 'get_ipython': <bound method InteractiveShell.get_ipython of <ipykernel.zmqshell.ZMQInteractiveShell object at 0x7fc6ba0d8950>>,\n",
       " 'exit': <IPython.core.autocall.ZMQExitAutocall at 0x7fc6b4d72190>,\n",
       " 'quit': <IPython.core.autocall.ZMQExitAutocall at 0x7fc6b4d72190>,\n",
       " '_': <code object two at 0x7fc6b4551390, file \"<ipython-input-2-17bcf590a421>\", line 6>,\n",
       " '__': (12,),\n",
       " '___': '',\n",
       " '_i': 'two()',\n",
       " '_ii': 'two.__code__ = one.__code__',\n",
       " '_iii': '# переопределение кода функций\\n\\ndef one():\\n    print(1)\\n    \\ndef two():\\n    print(2)\\n    \\none.__code__\\ntwo.__code__',\n",
       " '_i1': 'def hello(a=12):\\n    print(a)\\n    \\nhello.__defaults__',\n",
       " 'hello': <function __main__.hello(a=12)>,\n",
       " '_1': (12,),\n",
       " '_i2': '# переопределение кода функций\\n\\ndef one():\\n    print(1)\\n    \\ndef two():\\n    print(2)\\n    \\none.__code__\\ntwo.__code__',\n",
       " 'one': <function __main__.one()>,\n",
       " 'two': <function __main__.two()>,\n",
       " '_2': <code object two at 0x7fc6b4551390, file \"<ipython-input-2-17bcf590a421>\", line 6>,\n",
       " '_i3': 'two.__code__ = one.__code__',\n",
       " '_i4': 'two()',\n",
       " '_i5': 'two.__globals__'}"
      ]
     },
     "execution_count": 5,
     "metadata": {},
     "output_type": "execute_result"
    }
   ],
   "source": [
    "two.__globals__"
   ]
  },
  {
   "cell_type": "markdown",
   "metadata": {},
   "source": [
    "__dict__ определяет namespace функции или класса"
   ]
  },
  {
   "cell_type": "code",
   "execution_count": 6,
   "metadata": {},
   "outputs": [
    {
     "data": {
      "text/plain": [
       "{'a': 2}"
      ]
     },
     "execution_count": 6,
     "metadata": {},
     "output_type": "execute_result"
    }
   ],
   "source": [
    "two.a = 2\n",
    "two.__dict__"
   ]
  },
  {
   "cell_type": "markdown",
   "metadata": {},
   "source": [
    "аннотация типов - __annotations__, "
   ]
  },
  {
   "cell_type": "markdown",
   "metadata": {},
   "source": [
    "__closure__ - "
   ]
  },
  {
   "cell_type": "code",
   "execution_count": null,
   "metadata": {},
   "outputs": [],
   "source": [
    "def foo():\n",
    "    a = 1\n",
    "    def bla():\n",
    "        print(a) # это замыкание, потому что bla использует аргумент а, не содержащийся в её namespace\n",
    "# бывает полезно, когда надо передавать очень много аргументов"
   ]
  },
  {
   "cell_type": "code",
   "execution_count": 9,
   "metadata": {},
   "outputs": [],
   "source": [
    "def foo():\n",
    "    a = 1\n",
    "    def bla():\n",
    "        print(a)\n",
    "    return bla"
   ]
  },
  {
   "cell_type": "code",
   "execution_count": 10,
   "metadata": {},
   "outputs": [
    {
     "data": {
      "text/plain": [
       "(<cell at 0x7fc6b44eb210: int object at 0x8df0a0>,)"
      ]
     },
     "execution_count": 10,
     "metadata": {},
     "output_type": "execute_result"
    }
   ],
   "source": [
    "foo().__closure__\n"
   ]
  },
  {
   "cell_type": "markdown",
   "metadata": {},
   "source": [
    "__dict__ у класса выглядит иначе.\n",
    "У функции он возвращает словарь"
   ]
  },
  {
   "cell_type": "markdown",
   "metadata": {},
   "source": [
    "анонимная переменная _ запоминает последний результат в интерпретаторе"
   ]
  },
  {
   "cell_type": "code",
   "execution_count": null,
   "metadata": {},
   "outputs": [],
   "source": [
    "for _ in range(5):\n",
    "    print('hello')"
   ]
  },
  {
   "cell_type": "markdown",
   "metadata": {},
   "source": [
    "используется ещё и в лямбда функциях"
   ]
  },
  {
   "cell_type": "code",
   "execution_count": null,
   "metadata": {},
   "outputs": [],
   "source": [
    "d = dict()\n",
    "sorted(d.items(), key=lambda v: v[1])"
   ]
  },
  {
   "cell_type": "code",
   "execution_count": 11,
   "metadata": {},
   "outputs": [
    {
     "data": {
      "text/plain": [
       "mappingproxy({'__module__': '__main__',\n",
       "              '__dict__': <attribute '__dict__' of 'Foo' objects>,\n",
       "              '__weakref__': <attribute '__weakref__' of 'Foo' objects>,\n",
       "              '__doc__': None})"
      ]
     },
     "execution_count": 11,
     "metadata": {},
     "output_type": "execute_result"
    }
   ],
   "source": [
    "class Foo:\n",
    "    pass\n",
    "\n",
    "Foo.__dict__"
   ]
  },
  {
   "cell_type": "code",
   "execution_count": 12,
   "metadata": {},
   "outputs": [
    {
     "data": {
      "text/plain": [
       "mappingproxy({'__module__': '__main__',\n",
       "              '__init__': <function __main__.Foo.__init__(self, x)>,\n",
       "              '__dict__': <attribute '__dict__' of 'Foo' objects>,\n",
       "              '__weakref__': <attribute '__weakref__' of 'Foo' objects>,\n",
       "              '__doc__': None})"
      ]
     },
     "execution_count": 12,
     "metadata": {},
     "output_type": "execute_result"
    }
   ],
   "source": [
    "class Foo:\n",
    "    def __init__(self, x):\n",
    "        self.x = x\n",
    "        a = 12\n",
    "        \n",
    "Foo.__dict__"
   ]
  },
  {
   "cell_type": "markdown",
   "metadata": {},
   "source": [
    "__dict__ - набор всех атрибутов класса"
   ]
  },
  {
   "cell_type": "code",
   "execution_count": 13,
   "metadata": {},
   "outputs": [
    {
     "data": {
      "text/plain": [
       "mappingproxy"
      ]
     },
     "execution_count": 13,
     "metadata": {},
     "output_type": "execute_result"
    }
   ],
   "source": [
    "type(Foo.__dict__) # не дикт, а mappingproxy"
   ]
  },
  {
   "cell_type": "code",
   "execution_count": 15,
   "metadata": {},
   "outputs": [
    {
     "data": {
      "text/plain": [
       "{'x': 1}"
      ]
     },
     "execution_count": 15,
     "metadata": {},
     "output_type": "execute_result"
    }
   ],
   "source": [
    "a = Foo(1)\n",
    "a.__dict__"
   ]
  },
  {
   "cell_type": "markdown",
   "metadata": {},
   "source": [
    "функции, объявленные в классе, привязаны к самому классу, а не к каждому объекту, но их можно вычленить из него"
   ]
  },
  {
   "cell_type": "code",
   "execution_count": 16,
   "metadata": {},
   "outputs": [
    {
     "data": {
      "text/plain": [
       "<function __main__.Foo.bla(self)>"
      ]
     },
     "execution_count": 16,
     "metadata": {},
     "output_type": "execute_result"
    }
   ],
   "source": [
    "class Foo:\n",
    "    def bla(self):\n",
    "        return 2\n",
    "    \n",
    "Foo.bla #function"
   ]
  },
  {
   "cell_type": "code",
   "execution_count": 17,
   "metadata": {},
   "outputs": [
    {
     "data": {
      "text/plain": [
       "<bound method Foo.bla of <__main__.Foo object at 0x7fc69e41a4d0>>"
      ]
     },
     "execution_count": 17,
     "metadata": {},
     "output_type": "execute_result"
    }
   ],
   "source": [
    "a = Foo()\n",
    "a.bla #bound - связывание функции из класса с объектом класса"
   ]
  },
  {
   "cell_type": "markdown",
   "metadata": {},
   "source": [
    "концепт mro: method resolution order\n",
    "при множественном наследовании - какой метод в каком порядке вызывать\n",
    "посмотрим в след раз :("
   ]
  },
  {
   "cell_type": "markdown",
   "metadata": {},
   "source": [
    "__dictoffset__ - сдвиг до следующего указателя на __dict__ instance\n",
    "__flags__ - битовая маска с характеристиками объекта\n",
    "__weakrefoffset__ - можно узнать, поддерживает ли объект слабые ссылки (0) или нет (другое число)"
   ]
  },
  {
   "cell_type": "markdown",
   "metadata": {},
   "source": [
    "__repr__ - представление объекта в консоли\n",
    "__str__ - то, что вызывается принтом\n",
    "\n",
    "сложение строк < c-style format (%) < __format__ = f-strings по скорости"
   ]
  },
  {
   "cell_type": "markdown",
   "metadata": {},
   "source": [
    "операторам сравнения соответствуют магические методы ==> переопределяя методы, можно перегружать операторы\n",
    "определяя магические методы, можно эмулировать пользовательский класс под другие типы данных"
   ]
  },
  {
   "cell_type": "code",
   "execution_count": 20,
   "metadata": {},
   "outputs": [
    {
     "data": {
      "text/plain": [
       "True"
      ]
     },
     "execution_count": 20,
     "metadata": {},
     "output_type": "execute_result"
    }
   ],
   "source": [
    "class Foo():\n",
    "    def __lt__(self, other):\n",
    "        return True\n",
    "    \n",
    "a = Foo()\n",
    "b = Foo()\n",
    "a < b"
   ]
  },
  {
   "cell_type": "code",
   "execution_count": 21,
   "metadata": {},
   "outputs": [
    {
     "data": {
      "text/plain": [
       "True"
      ]
     },
     "execution_count": 21,
     "metadata": {},
     "output_type": "execute_result"
    }
   ],
   "source": [
    "a < 1"
   ]
  },
  {
   "cell_type": "code",
   "execution_count": 22,
   "metadata": {},
   "outputs": [],
   "source": [
    "# переопределение сложения\n",
    "class Foo():\n",
    "    def __add__(self, other):\n",
    "        return [self.a, other.a]\n",
    "            \n",
    "    def __init__(self, a):\n",
    "        self.a = a\n",
    "        \n",
    "        \n",
    "a = Foo(1)\n",
    "b = Foo(2)"
   ]
  },
  {
   "cell_type": "code",
   "execution_count": 23,
   "metadata": {},
   "outputs": [
    {
     "data": {
      "text/plain": [
       "[1, 2]"
      ]
     },
     "execution_count": 23,
     "metadata": {},
     "output_type": "execute_result"
    }
   ],
   "source": [
    "a + b"
   ]
  },
  {
   "cell_type": "markdown",
   "metadata": {},
   "source": [
    "дз\n",
    "\n",
    "№1 необязательно, но желательно - на доп балл\n",
    "№2 - списки состоят только из интов, задание на переопределение маг методов. Вложенных списков нет.\n",
    "От списка можно не наследоваться, если нет желания \n",
    "№3 __str__ человекочитаемое, __repr__ - необязательно.\n",
    "\n",
    "приём дз - после след лекции, показывать в своём репозитории на гитхабе. За один раз максимум 2 дз\n"
   ]
  }
 ],
 "metadata": {
  "kernelspec": {
   "display_name": "Python 3",
   "language": "python",
   "name": "python3"
  },
  "language_info": {
   "codemirror_mode": {
    "name": "ipython",
    "version": 3
   },
   "file_extension": ".py",
   "mimetype": "text/x-python",
   "name": "python",
   "nbconvert_exporter": "python",
   "pygments_lexer": "ipython3",
   "version": "3.7.5"
  }
 },
 "nbformat": 4,
 "nbformat_minor": 4
}
