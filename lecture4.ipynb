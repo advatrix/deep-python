{
 "cells": [
  {
   "cell_type": "code",
   "execution_count": 1,
   "metadata": {},
   "outputs": [
    {
     "name": "stdout",
     "output_type": "stream",
     "text": [
      "  1           0 LOAD_NAME                0 (pow)\n",
      "              2 LOAD_CONST               0 (3)\n",
      "              4 LOAD_CONST               1 (89)\n",
      "              6 CALL_FUNCTION            2\n",
      "              8 RETURN_VALUE\n"
     ]
    }
   ],
   "source": [
    "'''\n",
    "dis\n",
    "разобрать наш код в байт код\n",
    "\n",
    "'''\n",
    "\n",
    "import dis\n",
    "dis.dis('pow(3, 89)')"
   ]
  },
  {
   "cell_type": "code",
   "execution_count": 2,
   "metadata": {},
   "outputs": [
    {
     "name": "stdout",
     "output_type": "stream",
     "text": [
      "  1           0 LOAD_CONST               0 (3)\n",
      "              2 LOAD_CONST               1 (89)\n",
      "              4 BINARY_POWER\n",
      "              6 RETURN_VALUE\n"
     ]
    }
   ],
   "source": [
    "'''\n",
    "первая строка - загрузка имени, она и прибавляет к выполнению\n",
    "функции несколько нсек\n",
    "\n",
    "'''\n",
    "\n",
    "dis.dis('3**89')"
   ]
  },
  {
   "cell_type": "code",
   "execution_count": 3,
   "metadata": {},
   "outputs": [
    {
     "data": {
      "text/plain": [
       "'\\nа тут загрузки имени нет\\n\\npyc-файлы - байт-код.\\nОни появляются , когда происходит импорт модуля - это свое\\nобразная оптимизация интерпретатора.\\n\\nЭто оптимизация запуска, а не исполнения.\\n\\nЭти инструкции (LOAD NAME) и проч берутся из исходников\\nсипайтон.\\n\\n\\n\\n\\n\\n\\n'"
      ]
     },
     "execution_count": 3,
     "metadata": {},
     "output_type": "execute_result"
    }
   ],
   "source": [
    "'''\n",
    "а тут загрузки имени нет\n",
    "\n",
    "pyc-файлы - байт-код.\n",
    "Они появляются , когда происходит импорт модуля - это свое\n",
    "образная оптимизация интерпретатора.\n",
    "\n",
    "Это оптимизация запуска, а не исполнения.\n",
    "\n",
    "Эти инструкции (LOAD NAME) и проч берутся из исходников\n",
    "сипайтон.\n",
    "\n",
    "\n",
    "\n",
    "\n",
    "\n",
    "\n",
    "'''"
   ]
  },
  {
   "cell_type": "code",
   "execution_count": 4,
   "metadata": {},
   "outputs": [
    {
     "data": {
      "text/plain": [
       "__main__.A"
      ]
     },
     "execution_count": 4,
     "metadata": {},
     "output_type": "execute_result"
    }
   ],
   "source": [
    "'''\n",
    "__dict__ - хранится пространство имён.\n",
    "\n",
    "\n",
    "Когда мы хотим найти какой-то атрибут объекта, питон ищет его\n",
    "разными путямию\n",
    "\n",
    "Сначала - сам объект и его атрибуты\n",
    "Потом - класс и его атрибуты\n",
    "Потом - родительские классы и их атрибуты ( __mro__ )\n",
    "mro - method resolution order\n",
    "'''\n",
    "class A:\n",
    "    pass\n",
    "\n",
    "a = A()\n",
    "\n",
    "a.__class__\n",
    "\n"
   ]
  },
  {
   "cell_type": "code",
   "execution_count": 5,
   "metadata": {},
   "outputs": [
    {
     "data": {
      "text/plain": [
       "(__main__.A, object)"
      ]
     },
     "execution_count": 5,
     "metadata": {},
     "output_type": "execute_result"
    }
   ],
   "source": [
    "a.__class__.__mro__"
   ]
  },
  {
   "cell_type": "code",
   "execution_count": 6,
   "metadata": {},
   "outputs": [
    {
     "data": {
      "text/plain": [
       "\"\\nдескрипторы\\n\\na.foo.__class__.__get__\\n\\nесть слот для метода __get__, это уже дескриптор.\\n\\n\\n\\n\\ndata-дескриптор (есть и сет, и гет)\\n, non-data десктриптор (есть только гет)\\n\\n\\nДесктриптор - некоторый класс, у которого есть методы\\n__get__, __set__, используемый в каком-то другом классе.\\n\\n\\nДескриптором может являться статик метод-метод, который\\nможно вызывать без привязки к какому-то экземпляру.\\n\\nОни часто применяются чтобы скрыть логику\\n\\n\\nurm - представление таблиц в бд в виде классов.\\n\\nчтобы ввести валидаторы в инит, идеально использовать дескрипторы\\n\\nclass Order:\\n    price = NonNegative('price') <- мы сами написали такой дескриптор NonNegative\\n    quantity = NonNegative('quantity')\\n    \\n    def __init__(self, ...):\\n        self.price = price\\n...\\n\\n\\nМетод __new__ создаёт новый объект класса, статический. \\nПосле создания объекта уже у объекта вызывается метод __init__\\n\\n\""
      ]
     },
     "execution_count": 6,
     "metadata": {},
     "output_type": "execute_result"
    }
   ],
   "source": [
    "'''\n",
    "дескрипторы\n",
    "\n",
    "a.foo.__class__.__get__\n",
    "\n",
    "есть слот для метода __get__, это уже дескриптор.\n",
    "\n",
    "\n",
    "\n",
    "\n",
    "data-дескриптор (есть и сет, и гет)\n",
    ", non-data десктриптор (есть только гет)\n",
    "\n",
    "\n",
    "Десктриптор - некоторый класс, у которого есть методы\n",
    "__get__, __set__, используемый в каком-то другом классе.\n",
    "\n",
    "\n",
    "Дескриптором может являться статик метод-метод, который\n",
    "можно вызывать без привязки к какому-то экземпляру.\n",
    "\n",
    "Они часто применяются чтобы скрыть логику\n",
    "\n",
    "\n",
    "urm - представление таблиц в бд в виде классов.\n",
    "\n",
    "чтобы ввести валидаторы в инит, идеально использовать дескрипторы\n",
    "\n",
    "class Order:\n",
    "    price = NonNegative('price') <- мы сами написали такой дескриптор NonNegative\n",
    "    quantity = NonNegative('quantity')\n",
    "    \n",
    "    def __init__(self, ...):\n",
    "        self.price = price\n",
    "...\n",
    "\n",
    "\n",
    "Метод __new__ создаёт новый объект класса, статический. \n",
    "После создания объекта уже у объекта вызывается метод __init__\n",
    "\n",
    "'''"
   ]
  },
  {
   "cell_type": "code",
   "execution_count": 7,
   "metadata": {},
   "outputs": [],
   "source": [
    "class Foo:\n",
    "    pass\n",
    "\n",
    "x = Foo()"
   ]
  },
  {
   "cell_type": "code",
   "execution_count": 8,
   "metadata": {},
   "outputs": [
    {
     "data": {
      "text/plain": [
       "__main__.Foo"
      ]
     },
     "execution_count": 8,
     "metadata": {},
     "output_type": "execute_result"
    }
   ],
   "source": [
    "type(x)"
   ]
  },
  {
   "cell_type": "code",
   "execution_count": 9,
   "metadata": {},
   "outputs": [
    {
     "data": {
      "text/plain": [
       "type"
      ]
     },
     "execution_count": 9,
     "metadata": {},
     "output_type": "execute_result"
    }
   ],
   "source": [
    "type(Foo)"
   ]
  },
  {
   "cell_type": "code",
   "execution_count": 10,
   "metadata": {},
   "outputs": [
    {
     "data": {
      "text/plain": [
       "type"
      ]
     },
     "execution_count": 10,
     "metadata": {},
     "output_type": "execute_result"
    }
   ],
   "source": [
    "type(type)"
   ]
  },
  {
   "cell_type": "code",
   "execution_count": 11,
   "metadata": {},
   "outputs": [
    {
     "data": {
      "text/plain": [
       "[('__annotations__', {}),\n",
       " ('__call__',\n",
       "  <method-wrapper '__call__' of function object at 0x00000212C27A2510>),\n",
       " ('__class__', function),\n",
       " ('__closure__', None),\n",
       " ('__code__',\n",
       "  <code object foo at 0x00000212C26CE540, file \"<ipython-input-11-cb9d257bc58c>\", line 19>),\n",
       " ('__defaults__', None),\n",
       " ('__delattr__',\n",
       "  <method-wrapper '__delattr__' of function object at 0x00000212C27A2510>),\n",
       " ('__dict__', {}),\n",
       " ('__dir__', <function function.__dir__()>),\n",
       " ('__doc__', None),\n",
       " ('__eq__',\n",
       "  <method-wrapper '__eq__' of function object at 0x00000212C27A2510>),\n",
       " ('__format__', <function function.__format__(format_spec, /)>),\n",
       " ('__ge__',\n",
       "  <method-wrapper '__ge__' of function object at 0x00000212C27A2510>),\n",
       " ('__get__',\n",
       "  <method-wrapper '__get__' of function object at 0x00000212C27A2510>),\n",
       " ('__getattribute__',\n",
       "  <method-wrapper '__getattribute__' of function object at 0x00000212C27A2510>),\n",
       " ('__globals__',\n",
       "  {'__name__': '__main__',\n",
       "   '__doc__': '\\nс помощью __new__ можно реализовывать синглтоны\\n\\ntype - метакласс и может создавать новые классы\\n\\nМетаклассы - фабрика классов и нужны для создания классов\\nво время исполнения программы\\n\\nabc - модуль, который позволяет определять абстрактные базовые классы\\n\\n\\ninspect\\n',\n",
       "   '__package__': None,\n",
       "   '__loader__': None,\n",
       "   '__spec__': None,\n",
       "   '__builtin__': <module 'builtins' (built-in)>,\n",
       "   '__builtins__': <module 'builtins' (built-in)>,\n",
       "   '_ih': ['',\n",
       "    \"'''\\ndis\\nразобрать наш код в байт код\\n\\n'''\\n\\nimport dis\\ndis.dis('pow(3, 89)')\",\n",
       "    \"'''\\nпервая строка - загрузка имени\\n\\n'''\\n\\ndis.dis('3**89')\",\n",
       "    \"'''\\nа тут загрузки имени нет\\n\\npyc-файлы - байт-код.\\nОни появляются , когда происходит импорт модуля - это свое\\nобразная оптимизация интерпретатора.\\n\\nЭто оптимизация запуска, а не исполнения.\\n\\nЭти инструкции (LOAD NAME) и проч берутся из исходников\\nсипайтон.\\n\\n\\n\\n\\n\\n\\n'''\",\n",
       "    \"'''\\n__dict__ - хранится пространство имён.\\n\\n\\nКогда мы хотим найти какой-то атрибут объекта, питон ищет его\\nразными путямию\\n\\nСначала - сам объект и его атрибуты\\nПотом - класс и его атрибуты\\nПотом - родительские классы и их атрибуты ( __mro__ )\\n\\n'''\\nclass A:\\n    pass\\n\\na = A()\\n\\na.__class__\",\n",
       "    'a.__class__.__mro__',\n",
       "    \"'''\\nдескрипторы\\n\\na.foo.__class__.__get__\\n\\nесть слот для метода __get__, это уже дескриптор.\\n\\n\\n\\n\\ndata-дескриптор (есть и сет, и гет)\\n, non-data десктриптор (есть только гет)\\n\\n\\nДесктриптор - некоторый класс, у которого есть методы\\n__get__, __set__, используемый в каком-то другом классе.\\n\\n\\nДескриптором может являться статик метод-метод, который\\nможно вызывать без привязки к какому-то экземпляру.\\n\\nОни часто применяются чтобы скрыть логику\\n\\n\\nurm - представление таблиц в бд в виде классов.\\n\\nчтобы ввести валидаторы в инит, идеально использовать дескрипторы\\n\\nclass Order:\\n    price = NonNegative('price') <- мы сами написали такой дескриптор NonNegative\\n    quantity = NonNegative('quantity')\\n    \\n    def __init__(self, ...):\\n        self.price = price\\n...\\n\\n\\nМетод __new__ создаёт новый объект класса, статический. \\nПосле создания объекта уже у объекта вызывается метод __init__\\n\\n'''\",\n",
       "    'class Foo:\\n    pass\\n\\nx = Foo()',\n",
       "    'type(x)',\n",
       "    'type(Foo)',\n",
       "    'type(type)',\n",
       "    \"'''\\nс помощью __new__ можно реализовывать синглтоны\\n\\ntype - метакласс и может создавать новые классы\\n\\nМетаклассы - фабрика классов и нужны для создания классов\\nво время исполнения программы\\n\\nabc - модуль, который позволяет определять абстрактные базовые классы\\n\\n\\ninspect\\n'''\\n\\n\\n\\nimport inspect\\n\\ndef foo():\\n    pass\\n\\ninspect.getmembers(foo)\"],\n",
       "   '_oh': {3: '\\nа тут загрузки имени нет\\n\\npyc-файлы - байт-код.\\nОни появляются , когда происходит импорт модуля - это свое\\nобразная оптимизация интерпретатора.\\n\\nЭто оптимизация запуска, а не исполнения.\\n\\nЭти инструкции (LOAD NAME) и проч берутся из исходников\\nсипайтон.\\n\\n\\n\\n\\n\\n\\n',\n",
       "    4: __main__.A,\n",
       "    5: (__main__.A, object),\n",
       "    6: \"\\nдескрипторы\\n\\na.foo.__class__.__get__\\n\\nесть слот для метода __get__, это уже дескриптор.\\n\\n\\n\\n\\ndata-дескриптор (есть и сет, и гет)\\n, non-data десктриптор (есть только гет)\\n\\n\\nДесктриптор - некоторый класс, у которого есть методы\\n__get__, __set__, используемый в каком-то другом классе.\\n\\n\\nДескриптором может являться статик метод-метод, который\\nможно вызывать без привязки к какому-то экземпляру.\\n\\nОни часто применяются чтобы скрыть логику\\n\\n\\nurm - представление таблиц в бд в виде классов.\\n\\nчтобы ввести валидаторы в инит, идеально использовать дескрипторы\\n\\nclass Order:\\n    price = NonNegative('price') <- мы сами написали такой дескриптор NonNegative\\n    quantity = NonNegative('quantity')\\n    \\n    def __init__(self, ...):\\n        self.price = price\\n...\\n\\n\\nМетод __new__ создаёт новый объект класса, статический. \\nПосле создания объекта уже у объекта вызывается метод __init__\\n\\n\",\n",
       "    8: __main__.Foo,\n",
       "    9: type,\n",
       "    10: type},\n",
       "   '_dh': ['C:\\\\Users\\\\troja\\\\Documents'],\n",
       "   'In': ['',\n",
       "    \"'''\\ndis\\nразобрать наш код в байт код\\n\\n'''\\n\\nimport dis\\ndis.dis('pow(3, 89)')\",\n",
       "    \"'''\\nпервая строка - загрузка имени\\n\\n'''\\n\\ndis.dis('3**89')\",\n",
       "    \"'''\\nа тут загрузки имени нет\\n\\npyc-файлы - байт-код.\\nОни появляются , когда происходит импорт модуля - это свое\\nобразная оптимизация интерпретатора.\\n\\nЭто оптимизация запуска, а не исполнения.\\n\\nЭти инструкции (LOAD NAME) и проч берутся из исходников\\nсипайтон.\\n\\n\\n\\n\\n\\n\\n'''\",\n",
       "    \"'''\\n__dict__ - хранится пространство имён.\\n\\n\\nКогда мы хотим найти какой-то атрибут объекта, питон ищет его\\nразными путямию\\n\\nСначала - сам объект и его атрибуты\\nПотом - класс и его атрибуты\\nПотом - родительские классы и их атрибуты ( __mro__ )\\n\\n'''\\nclass A:\\n    pass\\n\\na = A()\\n\\na.__class__\",\n",
       "    'a.__class__.__mro__',\n",
       "    \"'''\\nдескрипторы\\n\\na.foo.__class__.__get__\\n\\nесть слот для метода __get__, это уже дескриптор.\\n\\n\\n\\n\\ndata-дескриптор (есть и сет, и гет)\\n, non-data десктриптор (есть только гет)\\n\\n\\nДесктриптор - некоторый класс, у которого есть методы\\n__get__, __set__, используемый в каком-то другом классе.\\n\\n\\nДескриптором может являться статик метод-метод, который\\nможно вызывать без привязки к какому-то экземпляру.\\n\\nОни часто применяются чтобы скрыть логику\\n\\n\\nurm - представление таблиц в бд в виде классов.\\n\\nчтобы ввести валидаторы в инит, идеально использовать дескрипторы\\n\\nclass Order:\\n    price = NonNegative('price') <- мы сами написали такой дескриптор NonNegative\\n    quantity = NonNegative('quantity')\\n    \\n    def __init__(self, ...):\\n        self.price = price\\n...\\n\\n\\nМетод __new__ создаёт новый объект класса, статический. \\nПосле создания объекта уже у объекта вызывается метод __init__\\n\\n'''\",\n",
       "    'class Foo:\\n    pass\\n\\nx = Foo()',\n",
       "    'type(x)',\n",
       "    'type(Foo)',\n",
       "    'type(type)',\n",
       "    \"'''\\nс помощью __new__ можно реализовывать синглтоны\\n\\ntype - метакласс и может создавать новые классы\\n\\nМетаклассы - фабрика классов и нужны для создания классов\\nво время исполнения программы\\n\\nabc - модуль, который позволяет определять абстрактные базовые классы\\n\\n\\ninspect\\n'''\\n\\n\\n\\nimport inspect\\n\\ndef foo():\\n    pass\\n\\ninspect.getmembers(foo)\"],\n",
       "   'Out': {3: '\\nа тут загрузки имени нет\\n\\npyc-файлы - байт-код.\\nОни появляются , когда происходит импорт модуля - это свое\\nобразная оптимизация интерпретатора.\\n\\nЭто оптимизация запуска, а не исполнения.\\n\\nЭти инструкции (LOAD NAME) и проч берутся из исходников\\nсипайтон.\\n\\n\\n\\n\\n\\n\\n',\n",
       "    4: __main__.A,\n",
       "    5: (__main__.A, object),\n",
       "    6: \"\\nдескрипторы\\n\\na.foo.__class__.__get__\\n\\nесть слот для метода __get__, это уже дескриптор.\\n\\n\\n\\n\\ndata-дескриптор (есть и сет, и гет)\\n, non-data десктриптор (есть только гет)\\n\\n\\nДесктриптор - некоторый класс, у которого есть методы\\n__get__, __set__, используемый в каком-то другом классе.\\n\\n\\nДескриптором может являться статик метод-метод, который\\nможно вызывать без привязки к какому-то экземпляру.\\n\\nОни часто применяются чтобы скрыть логику\\n\\n\\nurm - представление таблиц в бд в виде классов.\\n\\nчтобы ввести валидаторы в инит, идеально использовать дескрипторы\\n\\nclass Order:\\n    price = NonNegative('price') <- мы сами написали такой дескриптор NonNegative\\n    quantity = NonNegative('quantity')\\n    \\n    def __init__(self, ...):\\n        self.price = price\\n...\\n\\n\\nМетод __new__ создаёт новый объект класса, статический. \\nПосле создания объекта уже у объекта вызывается метод __init__\\n\\n\",\n",
       "    8: __main__.Foo,\n",
       "    9: type,\n",
       "    10: type},\n",
       "   'get_ipython': <bound method InteractiveShell.get_ipython of <ipykernel.zmqshell.ZMQInteractiveShell object at 0x00000212C26270B8>>,\n",
       "   'exit': <IPython.core.autocall.ZMQExitAutocall at 0x212c269a198>,\n",
       "   'quit': <IPython.core.autocall.ZMQExitAutocall at 0x212c269a198>,\n",
       "   '_': type,\n",
       "   '__': type,\n",
       "   '___': __main__.Foo,\n",
       "   '_i': 'type(type)',\n",
       "   '_ii': 'type(Foo)',\n",
       "   '_iii': 'type(x)',\n",
       "   '_i1': \"'''\\ndis\\nразобрать наш код в байт код\\n\\n'''\\n\\nimport dis\\ndis.dis('pow(3, 89)')\",\n",
       "   'dis': <module 'dis' from 'C:\\\\Users\\\\troja\\\\Anaconda3\\\\lib\\\\dis.py'>,\n",
       "   '_i2': \"'''\\nпервая строка - загрузка имени\\n\\n'''\\n\\ndis.dis('3**89')\",\n",
       "   '_i3': \"'''\\nа тут загрузки имени нет\\n\\npyc-файлы - байт-код.\\nОни появляются , когда происходит импорт модуля - это свое\\nобразная оптимизация интерпретатора.\\n\\nЭто оптимизация запуска, а не исполнения.\\n\\nЭти инструкции (LOAD NAME) и проч берутся из исходников\\nсипайтон.\\n\\n\\n\\n\\n\\n\\n'''\",\n",
       "   '_3': '\\nа тут загрузки имени нет\\n\\npyc-файлы - байт-код.\\nОни появляются , когда происходит импорт модуля - это свое\\nобразная оптимизация интерпретатора.\\n\\nЭто оптимизация запуска, а не исполнения.\\n\\nЭти инструкции (LOAD NAME) и проч берутся из исходников\\nсипайтон.\\n\\n\\n\\n\\n\\n\\n',\n",
       "   '_i4': \"'''\\n__dict__ - хранится пространство имён.\\n\\n\\nКогда мы хотим найти какой-то атрибут объекта, питон ищет его\\nразными путямию\\n\\nСначала - сам объект и его атрибуты\\nПотом - класс и его атрибуты\\nПотом - родительские классы и их атрибуты ( __mro__ )\\n\\n'''\\nclass A:\\n    pass\\n\\na = A()\\n\\na.__class__\",\n",
       "   'A': __main__.A,\n",
       "   'a': <__main__.A at 0x212c27bb5c0>,\n",
       "   '_4': __main__.A,\n",
       "   '_i5': 'a.__class__.__mro__',\n",
       "   '_5': (__main__.A, object),\n",
       "   '_i6': \"'''\\nдескрипторы\\n\\na.foo.__class__.__get__\\n\\nесть слот для метода __get__, это уже дескриптор.\\n\\n\\n\\n\\ndata-дескриптор (есть и сет, и гет)\\n, non-data десктриптор (есть только гет)\\n\\n\\nДесктриптор - некоторый класс, у которого есть методы\\n__get__, __set__, используемый в каком-то другом классе.\\n\\n\\nДескриптором может являться статик метод-метод, который\\nможно вызывать без привязки к какому-то экземпляру.\\n\\nОни часто применяются чтобы скрыть логику\\n\\n\\nurm - представление таблиц в бд в виде классов.\\n\\nчтобы ввести валидаторы в инит, идеально использовать дескрипторы\\n\\nclass Order:\\n    price = NonNegative('price') <- мы сами написали такой дескриптор NonNegative\\n    quantity = NonNegative('quantity')\\n    \\n    def __init__(self, ...):\\n        self.price = price\\n...\\n\\n\\nМетод __new__ создаёт новый объект класса, статический. \\nПосле создания объекта уже у объекта вызывается метод __init__\\n\\n'''\",\n",
       "   '_6': \"\\nдескрипторы\\n\\na.foo.__class__.__get__\\n\\nесть слот для метода __get__, это уже дескриптор.\\n\\n\\n\\n\\ndata-дескриптор (есть и сет, и гет)\\n, non-data десктриптор (есть только гет)\\n\\n\\nДесктриптор - некоторый класс, у которого есть методы\\n__get__, __set__, используемый в каком-то другом классе.\\n\\n\\nДескриптором может являться статик метод-метод, который\\nможно вызывать без привязки к какому-то экземпляру.\\n\\nОни часто применяются чтобы скрыть логику\\n\\n\\nurm - представление таблиц в бд в виде классов.\\n\\nчтобы ввести валидаторы в инит, идеально использовать дескрипторы\\n\\nclass Order:\\n    price = NonNegative('price') <- мы сами написали такой дескриптор NonNegative\\n    quantity = NonNegative('quantity')\\n    \\n    def __init__(self, ...):\\n        self.price = price\\n...\\n\\n\\nМетод __new__ создаёт новый объект класса, статический. \\nПосле создания объекта уже у объекта вызывается метод __init__\\n\\n\",\n",
       "   '_i7': 'class Foo:\\n    pass\\n\\nx = Foo()',\n",
       "   'Foo': __main__.Foo,\n",
       "   'x': <__main__.Foo at 0x212c27bbcc0>,\n",
       "   '_i8': 'type(x)',\n",
       "   '_8': __main__.Foo,\n",
       "   '_i9': 'type(Foo)',\n",
       "   '_9': type,\n",
       "   '_i10': 'type(type)',\n",
       "   '_10': type,\n",
       "   '_i11': \"'''\\nс помощью __new__ можно реализовывать синглтоны\\n\\ntype - метакласс и может создавать новые классы\\n\\nМетаклассы - фабрика классов и нужны для создания классов\\nво время исполнения программы\\n\\nabc - модуль, который позволяет определять абстрактные базовые классы\\n\\n\\ninspect\\n'''\\n\\n\\n\\nimport inspect\\n\\ndef foo():\\n    pass\\n\\ninspect.getmembers(foo)\",\n",
       "   'inspect': <module 'inspect' from 'C:\\\\Users\\\\troja\\\\Anaconda3\\\\lib\\\\inspect.py'>,\n",
       "   'foo': <function __main__.foo()>}),\n",
       " ('__gt__',\n",
       "  <method-wrapper '__gt__' of function object at 0x00000212C27A2510>),\n",
       " ('__hash__',\n",
       "  <method-wrapper '__hash__' of function object at 0x00000212C27A2510>),\n",
       " ('__init__',\n",
       "  <method-wrapper '__init__' of function object at 0x00000212C27A2510>),\n",
       " ('__init_subclass__', <function function.__init_subclass__>),\n",
       " ('__kwdefaults__', None),\n",
       " ('__le__',\n",
       "  <method-wrapper '__le__' of function object at 0x00000212C27A2510>),\n",
       " ('__lt__',\n",
       "  <method-wrapper '__lt__' of function object at 0x00000212C27A2510>),\n",
       " ('__module__', '__main__'),\n",
       " ('__name__', 'foo'),\n",
       " ('__ne__',\n",
       "  <method-wrapper '__ne__' of function object at 0x00000212C27A2510>),\n",
       " ('__new__', <function function.__new__(*args, **kwargs)>),\n",
       " ('__qualname__', 'foo'),\n",
       " ('__reduce__', <function function.__reduce__()>),\n",
       " ('__reduce_ex__', <function function.__reduce_ex__(protocol, /)>),\n",
       " ('__repr__',\n",
       "  <method-wrapper '__repr__' of function object at 0x00000212C27A2510>),\n",
       " ('__setattr__',\n",
       "  <method-wrapper '__setattr__' of function object at 0x00000212C27A2510>),\n",
       " ('__sizeof__', <function function.__sizeof__()>),\n",
       " ('__str__',\n",
       "  <method-wrapper '__str__' of function object at 0x00000212C27A2510>),\n",
       " ('__subclasshook__', <function function.__subclasshook__>)]"
      ]
     },
     "execution_count": 11,
     "metadata": {},
     "output_type": "execute_result"
    }
   ],
   "source": [
    "'''\n",
    "с помощью __new__ можно реализовывать синглтоны\n",
    "\n",
    "type - метакласс и может создавать новые классы\n",
    "\n",
    "Метаклассы - фабрика классов и нужны для создания классов\n",
    "во время исполнения программы\n",
    "\n",
    "abc - модуль, который позволяет определять абстрактные базовые классы\n",
    "\n",
    "\n",
    "inspect\n",
    "'''\n",
    "\n",
    "\n",
    "\n",
    "import inspect\n",
    "\n",
    "def foo():\n",
    "    pass\n",
    "\n",
    "inspect.getmembers(foo)"
   ]
  },
  {
   "cell_type": "code",
   "execution_count": 12,
   "metadata": {},
   "outputs": [
    {
     "data": {
      "text/plain": [
       "{}"
      ]
     },
     "execution_count": 12,
     "metadata": {},
     "output_type": "execute_result"
    }
   ],
   "source": [
    "foo.__dict__"
   ]
  },
  {
   "cell_type": "code",
   "execution_count": null,
   "metadata": {},
   "outputs": [],
   "source": [
    "'''\n",
    "hw\n",
    "\n",
    "'''\n",
    "class Person():\n",
    "    id = IntegerField()\n",
    "    akcjhkajch\n",
    "    \n",
    "...\n",
    "\n",
    "Person.objects.create(12, 'ksjkj') # метод для создания\n",
    "\n",
    "Person.objects.all()  # select * from table\n",
    "\n",
    "Person.objects.get(id=3)  # sql-запрос к БД\n",
    "'''\n",
    "update:\n",
    "\n",
    "\n",
    "q.id = 2\n",
    "\n",
    "q.save()\n",
    "\n",
    "\n",
    "можно ещё зайти в джангу/другие орм и посмотреть, как они сделаны\n",
    "\n",
    "дб хотя бы одна табличка и минимум три поля у неё\n",
    "\n",
    "'''\n",
    "\n",
    "\n"
   ]
  }
 ],
 "metadata": {
  "kernelspec": {
   "display_name": "Python 3",
   "language": "python",
   "name": "python3"
  },
  "language_info": {
   "codemirror_mode": {
    "name": "ipython",
    "version": 3
   },
   "file_extension": ".py",
   "mimetype": "text/x-python",
   "name": "python",
   "nbconvert_exporter": "python",
   "pygments_lexer": "ipython3",
   "version": "3.7.3"
  }
 },
 "nbformat": 4,
 "nbformat_minor": 2
}
