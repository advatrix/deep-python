{
 "cells": [
  {
   "cell_type": "code",
   "execution_count": 2,
   "metadata": {},
   "outputs": [
    {
     "data": {
      "text/plain": [
       "'\\nплатим\\n- временем работы\\n- памятью\\n\\nв сравнении с си, питон медленнее и тратит больше памяти\\n\\nзачем мб нужен ситон?\\n- если нужна скорость\\n- если нужна си-либа, но её нет на питоне\\n- нужен низкоуровневый интерфейс управления ресурсами для работы с \\nпамятью и файлами\\n- потому что так хочется :)\\n\\n\\nctypes\\n\\nlib \\n\\nвстроенный модуль, позволяющий использовать конструкции на си\\n\\n\\nint sum (int* arr, int len) {\\n    int res = 0;\\n    for (int i = 0; i < len; ++i) res += arr[i];\\n    return res;\\n}\\n\\ngcc -fPIC -shared -o sumlib.so 1.c\\n\\nshared - разделяемая библиотека, чтобы можно было её подключать\\nони могут быть нужны для запуска некоторых программ\\n\\n\\n\\n\\n'"
      ]
     },
     "execution_count": 2,
     "metadata": {},
     "output_type": "execute_result"
    }
   ],
   "source": [
    "'''\n",
    "платим\n",
    "- временем работы\n",
    "- памятью\n",
    "\n",
    "в сравнении с си, питон медленнее и тратит больше памяти\n",
    "\n",
    "зачем мб нужен ситон?\n",
    "- если нужна скорость\n",
    "- если нужна си-либа, но её нет на питоне\n",
    "- нужен низкоуровневый интерфейс управления ресурсами для работы с \n",
    "памятью и файлами\n",
    "- потому что так хочется :)\n",
    "\n",
    "\n",
    "ctypes\n",
    "\n",
    "lib \n",
    "\n",
    "встроенный модуль, позволяющий использовать конструкции на си\n",
    "\n",
    "\n",
    "int sum (int* arr, int len) {\n",
    "    int res = 0;\n",
    "    for (int i = 0; i < len; ++i) res += arr[i];\n",
    "    return res;\n",
    "}\n",
    "\n",
    "gcc -fPIC -shared -o sumlib.so 1.c\n",
    "\n",
    "shared - разделяемая библиотека, чтобы можно было её подключать\n",
    "они могут быть нужны для запуска некоторых программ\n",
    "\n",
    "\n",
    "\n",
    "\n",
    "'''"
   ]
  },
  {
   "cell_type": "code",
   "execution_count": null,
   "metadata": {},
   "outputs": [],
   "source": [
    "'''\n",
    "#include <stdio.h>\n",
    "\n",
    "int sum(int *arr, int len) {\n",
    "    int res = 0;\n",
    "    for (int i = 0; i < len; ++i) res += arr[i];\n",
    "    return res;\n",
    "}\n",
    "\n",
    "int simple_function() {\n",
    "    static int i = 0;\n",
    "    printf(\"Hello, World #%d\\n\", i);\n",
    "    i += 1;\n",
    "    return i;\n",
    "    \n",
    "    // std::endl - сразу выталкивается весь буфер\n",
    "    // много std::endl часто может снижать скорость работы программы\n",
    "}\n",
    "\n",
    "void change_string(char* text) {\n",
    "    int n = strlen(text); \n",
    "    for (int i = 0; text != NULL && text[i] != '\\0'; ++i)\n",
    "        text[i] += 1;\n",
    "}\n",
    "\n",
    "'''"
   ]
  },
  {
   "cell_type": "code",
   "execution_count": null,
   "metadata": {},
   "outputs": [],
   "source": [
    "'''\n",
    "gcc -fPIC -shared -o lib1.so 1.c\n",
    "\n",
    "chmod +x 1.py\n",
    "\n",
    "source ../../venv/bin/activate\n",
    "\n",
    "python3 -m venv venv - делаем виртуальное окружение\n",
    "\n",
    "rm -rf venv\n",
    "\n",
    "'''"
   ]
  },
  {
   "cell_type": "code",
   "execution_count": null,
   "metadata": {},
   "outputs": [],
   "source": [
    "#! /usr/bin/env python\n",
    "\n",
    "import ctypes\n",
    "\n",
    "\n",
    "if __name__ == '__main__':\n",
    "    lib = ctypes.CDLL('./lib1.so')\n",
    "    print('Check out simple function')\n",
    "    for _ in range(10):\n",
    "        print(lib.simple_function())\n",
    "        \n",
    "        \n",
    "    print('Check out change_string')\n",
    "    original_string = 'Hello, world!'\n",
    "    \n",
    "    mutable_string = ctypes.create_string_buffer(str.encode(original_string))\n",
    "    \n",
    "    print(f'Before call func {mutable_string.value}')\n",
    "    lib.change_string(mutable_string.value)\n",
    "    print(f'After call func {mutable_string.value}')\n",
    "    "
   ]
  },
  {
   "cell_type": "code",
   "execution_count": null,
   "metadata": {},
   "outputs": [],
   "source": [
    "'''\n",
    "char *alloc_str() {\n",
    "    return strdup(\"My allocated string\");\n",
    "}\n",
    "\n",
    "void free_str(char* text) {\n",
    "    printf(\"Free memory\");\n",
    "    free(text);\n",
    "}\n",
    "\n",
    "\n",
    "'''"
   ]
  },
  {
   "cell_type": "code",
   "execution_count": null,
   "metadata": {},
   "outputs": [],
   "source": [
    "print('check out allocate and free functions')\n",
    "\n",
    "alloc_func = lib.alloc_str\n",
    "dir(alloc_func)\n",
    "\n",
    "alloc_func.restype = ctypes.POINTER(ctypes.c_char)\n",
    "\n",
    "allocated_str=  alloc_func()\n",
    "phrase = ctypes.c_char_p.from_buffer(allocated_str)\n",
    "\n",
    "\n",
    "\n",
    "print(f'allocated text: {allocated_str}')\n",
    "\n",
    "free_func = lib.free_char\n",
    "free_func.argtypes = [ctypes.POINTER(c_types.c_char)]\n",
    "\n",
    "free_func(allocated_str)\n",
    "\n",
    "\n"
   ]
  },
  {
   "cell_type": "code",
   "execution_count": null,
   "metadata": {},
   "outputs": [],
   "source": [
    "'''\n",
    "cffi\n",
    "\n",
    "\n",
    "\n",
    "#include <stdlib.h>\n",
    "#inlcude <stdio.h>\n",
    "\n",
    "int sum (int* arr, int len) {\n",
    "    int res = 0;\n",
    "    for (int i = 0; i < len; ++i)\n",
    "        res += arr[i];\n",
    "    return res;\n",
    "}\n",
    "\n",
    "скомпилируем её в shared\n",
    "\n",
    "'''"
   ]
  },
  {
   "cell_type": "code",
   "execution_count": null,
   "metadata": {},
   "outputs": [],
   "source": [
    "#! /usr/bin/env python\n",
    "\n",
    "import cffi\n",
    "\n",
    "if __name__ == '___main__':\n",
    "    ffi = cffi.FFI()\n",
    "    lib = ffi.dlopen('./lib2.so')\n",
    "    ffi.cdef('''\n",
    "    int sum(int *arr, int len)\n",
    "    ''') - декларация, чтобы объект знал, что есть такая функция\n",
    "    arr = [1, 2, 3, 4]\n",
    "    lib.sum(arr, len(arr))"
   ]
  },
  {
   "cell_type": "code",
   "execution_count": null,
   "metadata": {},
   "outputs": [],
   "source": [
    "добавим внутри файла структуру\n",
    "\n",
    "'''\n",
    "struct Point {\n",
    "    int x;\n",
    "    int y;\n",
    "};\n",
    "\n",
    "\n",
    "int area(struct Point *p1, struct Point *p2) {\n",
    "    return abs((p1->x - p2->x) * (p1->y - p2->y))\n",
    "}\n",
    "\n",
    "\n",
    "'''"
   ]
  },
  {
   "cell_type": "code",
   "execution_count": null,
   "metadata": {},
   "outputs": [],
   "source": [
    "ffi.cdef('''\n",
    "struct Point {\n",
    "    int x;\n",
    "    int y;\n",
    "};\n",
    "int area(struct Point* p1, struct Point* p2);\n",
    "int sum(int *arr, int len);\n",
    "''')\n",
    "\n",
    "p1 = ffi.new('struct Point*')\n",
    "p2 = ffi.new('struct Point*')\n",
    "\n",
    "p1.x, p1.y = 10, 10\n",
    "p2.x, p2.y = 0, 0\n",
    "\n",
    "area = lib.area(p1, p2)\n",
    "\n",
    "ffi.set_source('_sample', r'''\n",
    "int sum(int *arr, int len) {\n",
    "    ...\n",
    "}\n",
    "''')\n",
    "\n",
    "ffi.compile()\n",
    "\n"
   ]
  },
  {
   "cell_type": "code",
   "execution_count": null,
   "metadata": {},
   "outputs": [],
   "source": [
    "import _sample\n",
    "\n",
    "arr = list(range(0, 10))\n",
    "\n",
    "_sample.lib.sum(len(arr))"
   ]
  },
  {
   "cell_type": "code",
   "execution_count": null,
   "metadata": {},
   "outputs": [],
   "source": [
    "'''\n",
    "c extensions\n",
    "\n",
    "нужен makefile\n",
    "\n",
    "\n",
    "makefile:\n",
    "\n",
    "\n",
    "lib2.so: lib2.o\n",
    "    gcc -fPIC -shared -o lib2.so lib2.o\n",
    "lib2.o: lib2.c\n",
    "    gcc -c -fPIC lib2.c\n",
    "clean: -- we can write 'make clean'\n",
    "    rm -f *.o lib2.so\n",
    "\n",
    "'''\n",
    "\n",
    "\n"
   ]
  },
  {
   "cell_type": "code",
   "execution_count": null,
   "metadata": {},
   "outputs": [],
   "source": [
    "#! /usr/bin/env python\n",
    "\n",
    "import sample\n",
    "\n",
    "if __name__ == '__main__':\n",
    "    arr = list(range(0, 5))\n",
    "    print(f'result of sum is {sample.sum(arr, 3)}')"
   ]
  },
  {
   "cell_type": "raw",
   "metadata": {},
   "source": [
    "#include <stlib.h>\n",
    "#include <stdio.h>\n",
    "\n",
    "#include <Python/Python.h>\n",
    "\n",
    "PyObject* <module_name>_<function_name> - example\n",
    "\n",
    "PyObject* sample_sum(PyObject* self, PyObject* args) {\n",
    "    PyObject* list_obj;\n",
    "    PyObject* list_len_obj;\n",
    "    if (!PyArg_ParseTuple(args, \"Oi\", &list_obj, &list_len_obj)) {\n",
    "        printf(\"ERROR: failed to parse arguments\");\n",
    "        return NULL;\n",
    "    }\n",
    "    \n",
    "    long len = PyList_Size(list_obj);\n",
    "    long list_len = PyInt_AsLong(list_len_obj);\n",
    "    \n",
    "    long res = 0;\n",
    "    \n",
    "    for(int i = 0; i < len && i < list_len; ++i) {\n",
    "        PyObject* tmp = PyList_GetItem(list_obj, i);\n",
    "        res += PyInt_AsLong(tmp);\n",
    "    }\n",
    "    \n",
    "    return Py_BuildValue(\"i\", res);\n",
    "}\n",
    "\n",
    "\n",
    "PyMODINIT_FUNC initsample(void) {\n",
    "\n",
    "\n",
    "}"
   ]
  },
  {
   "cell_type": "code",
   "execution_count": null,
   "metadata": {},
   "outputs": [],
   "source": [
    "from distutils.core import setup, Extension\n",
    "\n",
    "\n",
    "setup(name='sum', version='1.0', ext_modules=[Extension('sample', ['3.c'])])\n",
    "\n"
   ]
  },
  {
   "cell_type": "code",
   "execution_count": null,
   "metadata": {},
   "outputs": [],
   "source": [
    "python setup.py install"
   ]
  },
  {
   "cell_type": "code",
   "execution_count": 3,
   "metadata": {},
   "outputs": [
    {
     "name": "stdout",
     "output_type": "stream",
     "text": [
      "24\n"
     ]
    }
   ],
   "source": [
    "def test(n):\n",
    "    res = 1\n",
    "    for i in range(1, n+1):\n",
    "        res *= i\n",
    "    return res\n",
    "\n",
    "\n",
    "if __name__ == '__main__':\n",
    "    for i in range(4):\n",
    "        print(test(4))"
   ]
  },
  {
   "cell_type": "code",
   "execution_count": null,
   "metadata": {},
   "outputs": [],
   "source": [
    "import cython\n",
    "\n",
    "cpdef test(int x):\n",
    "    int res = 1\n",
    "    for i in range(1, n+1):\n",
    "        res *= i\n",
    "    return res"
   ]
  },
  {
   "cell_type": "code",
   "execution_count": null,
   "metadata": {},
   "outputs": [],
   "source": []
  }
 ],
 "metadata": {
  "kernelspec": {
   "display_name": "Python 3",
   "language": "python",
   "name": "python3"
  },
  "language_info": {
   "codemirror_mode": {
    "name": "ipython",
    "version": 3
   },
   "file_extension": ".py",
   "mimetype": "text/x-python",
   "name": "python",
   "nbconvert_exporter": "python",
   "pygments_lexer": "ipython3",
   "version": "3.7.5"
  }
 },
 "nbformat": 4,
 "nbformat_minor": 4
}
